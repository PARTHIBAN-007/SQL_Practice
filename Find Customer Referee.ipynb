{
 "cells": [
  {
   "cell_type": "markdown",
   "id": "8e0d3a44",
   "metadata": {},
   "source": [
    "select name from Customer where referee_id is null or referee_id!=2"
   ]
  },
  {
   "cell_type": "markdown",
   "id": "43e78791",
   "metadata": {},
   "source": []
  }
 ],
 "metadata": {
  "language_info": {
   "name": "python"
  }
 },
 "nbformat": 4,
 "nbformat_minor": 5
}
