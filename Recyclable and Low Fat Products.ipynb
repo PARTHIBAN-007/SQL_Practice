{
 "cells": [
  {
   "cell_type": "markdown",
   "id": "b8aac3ca",
   "metadata": {},
   "source": [
    "select product_id from Products where low_fats = \"Y\" and recyclable = \"Y\""
   ]
  },
  {
   "cell_type": "markdown",
   "id": "5003e255",
   "metadata": {},
   "source": []
  }
 ],
 "metadata": {
  "language_info": {
   "name": "python"
  }
 },
 "nbformat": 4,
 "nbformat_minor": 5
}
