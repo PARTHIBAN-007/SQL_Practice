{
 "cells": [
  {
   "cell_type": "markdown",
   "id": "85a0a25c",
   "metadata": {},
   "source": [
    "Write a solution to find the second highest distinct salary from the Employee table. If there is no second highest salary, return null \n",
    "\n",
    "+-------------+------+\n",
    "| Column Name | Type |\n",
    "+-------------+------+\n",
    "| id          | int  |\n",
    "| salary      | int  |\n",
    "+-------------+------+"
   ]
  },
  {
   "cell_type": "markdown",
   "id": "45f8e8be",
   "metadata": {},
   "source": [
    "select max(salary) as SecondHighestSalary from Employee \n",
    " where salary<(select max(salary) from Employee)\n"
   ]
  }
 ],
 "metadata": {
  "kernelspec": {
   "display_name": "base",
   "language": "python",
   "name": "python3"
  },
  "language_info": {
   "codemirror_mode": {
    "name": "ipython",
    "version": 3
   },
   "file_extension": ".py",
   "mimetype": "text/x-python",
   "name": "python",
   "nbconvert_exporter": "python",
   "pygments_lexer": "ipython3",
   "version": "3.12.4"
  }
 },
 "nbformat": 4,
 "nbformat_minor": 5
}
